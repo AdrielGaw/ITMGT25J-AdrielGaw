{
 "cells": [
  {
   "cell_type": "markdown",
   "metadata": {},
   "source": [
    "# Quiz 1\n",
    "# Name: "
   ]
  },
  {
   "cell_type": "markdown",
   "metadata": {},
   "source": [
    "# 1A\n",
    "# Rectangle\n",
    "## 2 points\n",
    "\n",
    "(int, int) -> None\n",
    "    \n",
    "This function prints a solid rectangle composed of asterisks (\\\"\\*\\\").  \n",
    "This rectangle should be of the specified width and the specified height.  \n",
    "This function does not return any value; it simply prints the rectangle string.  "
   ]
  },
  {
   "cell_type": "code",
   "execution_count": 26,
   "metadata": {},
   "outputs": [
    {
     "name": "stdout",
     "output_type": "stream",
     "text": [
      "*****\n",
      "*****\n",
      "*****\n",
      "*****\n",
      "*****\n",
      "*****\n",
      "*****\n"
     ]
    }
   ],
   "source": [
    "#Problem 1a\n",
    "def rectangle(width,height):\n",
    "    for i in range(1,height+1):    #specifies height\n",
    "        \n",
    "        for j in range(1,width+1):    #specifies width\n",
    "            print(\"*\",end=\"\")         #will print a * for every iteration\n",
    "\n",
    "        print(\"\")                  #print's the next one to a new line\n",
    "\n",
    "rectangle(width=5,height=7)"
   ]
  },
  {
   "cell_type": "markdown",
   "metadata": {},
   "source": [
    "# 1B\n",
    "# Hollow Rectangle\n",
    "## 3 points\n",
    "\n",
    "(int, int) -> None\n",
    "    \n",
    "This function prints a hollow rectangle composed of asterisks \\(\\*).  \n",
    "The borders of this rectangle are composed of asterisks (\\\"\\*\\\").  \n",
    "The insides of this rectangle are composed of spaces (\" \").  \n",
    "This rectangle should be of the specified width and the specified height.  \n",
    "This function does not return any value; it simply prints the rectangle string.  "
   ]
  },
  {
   "cell_type": "code",
   "execution_count": 30,
   "metadata": {},
   "outputs": [
    {
     "name": "stdout",
     "output_type": "stream",
     "text": [
      "*********\n",
      "*       *\n",
      "*       *\n",
      "*********\n"
     ]
    }
   ],
   "source": [
    "#Problem 1b\n",
    "def rectangle(width,height):\n",
    "    for i in range(1,height+1):            #specifies height\n",
    "        \n",
    "        for j in range(1,width+1):         #specifies width\n",
    "            if i == 1 or i == height:      #if we're on the top/bottom \"level\", print \"*\"\n",
    "                print(\"*\",end=\"\")\n",
    "                \n",
    "            elif j == 1 or j == width:      #prints the \"sides\" of the rectangle;\n",
    "                print(\"*\",end=\"\")           #if we're on the \"leftmost\" or the \"rightmost\", print \"*\"\n",
    "                \n",
    "            else:\n",
    "                print(\" \",end=\"\")           #if not, we print a whitespace to allot for the \"hollow part\"\n",
    "        \n",
    "        print(\"\")                           #prints the next one to a new line\n",
    "\n",
    "        \n",
    "rectangle(width=9,height=4)"
   ]
  },
  {
   "cell_type": "markdown",
   "metadata": {},
   "source": [
    "# 2\n",
    "# Caesar Cipher\n",
    "## 4 points\n",
    "(str, int) -> str\n",
    "    \n",
    "This function encrypts a message using the Caesar cipher method.  \n",
    "The Caesar cipher \"shifts\" each letter in a message to the right by a specified number.\n",
    "\n",
    "For example:\n",
    "\n",
    "encrypt('ABC', 2) -> 'CDE'\n",
    "\n",
    "In terms of ordinal positions in the alphabet, 'A' is 0, 'B' is 1, and 'C' is 2.  \n",
    "Add the specified number to each of these values to receive 0 + 2 = 2, 2 + 2 = 4, and 3 + 2 = 5.  \n",
    "Converting back to letters from numbers: 2 is 'C', 3 is 'D', and 4 is 'E'.\n",
    "\n",
    "Another example:\n",
    "\n",
    "encrypt('XYZ', 2) -> 'ZAB'\n",
    "\n",
    "In terms of ordinal positions in the alphabet, 'X' is 23, 'Y' is 24, and 'Z' is 25.  \n",
    "Add the specified number to each to receive 25, 26, and 27 respectively.  \n",
    "26 and 27 no longer fall in the range of alphabet numbers, so we need to \"wrap\" them around.  \n",
    "  Subtract 26 from 26 and 27 to receive 0 and 1.\n",
    "The final list of numbers is 25, 0, and 1.  \n",
    "Converting back to letters from numbers: 25 is 'Z', 0 is 'A', and 1 is 'B'.  \n",
    "\n",
    "You may find these functions helpful:  \n",
    "chr() converts a Unicode integer value to a character (i.e. a letter).  \n",
    "  e.g. chr(65) -> 'A'  \n",
    "ord() converts a character (i.e. a letter) to its Unicode integer value.  \n",
    "  e.g. ord('A') -> 65\n",
    "\n",
    "For your convenience:\n",
    "1. The message is composed entirely of capital letters. There will be no spaces or lower case letters.\n",
    "2. The shift number will be between 0 and 25.\n",
    "3. The alphabet is mapped such that A is 0 and Z is 25."
   ]
  },
  {
   "cell_type": "code",
   "execution_count": 21,
   "metadata": {},
   "outputs": [
    {
     "name": "stdout",
     "output_type": "stream",
     "text": [
      "CDE\n"
     ]
    }
   ],
   "source": [
    "#Problem 2\n",
    "def caesar_cipher(message,shiftnum):\n",
    "    newstring = \"\"               #newstring is the \"string\" that is shifted\n",
    "    message = message.upper()    #just to ensure it's all in UPPERCASE, shouldn't really be needed\n",
    "    \n",
    "    for letter in message:       #iterates through all letters in the given\n",
    "        \n",
    "        if ord(letter)+shiftnum > 90:        #if shifting exceeded the letters (ie. not in capital letters anymore)\n",
    "            \n",
    "            newstring += chr(ord(letter)+shiftnum-26)       #since the shift number is only between 0 and 25, \n",
    "                                                            #we can just deduct 26 (the number of letters in the alphabet)\n",
    "        \n",
    "        else:\n",
    "\n",
    "            newstring += chr(ord(letter)+shiftnum)          #if we didn't exceed, just add the new letter \n",
    "\n",
    "    return newstring\n",
    "\n",
    "print(caesar_cipher(\"ABC\",2))"
   ]
  },
  {
   "cell_type": "markdown",
   "metadata": {},
   "source": [
    "# 3\n",
    "# Vigenere Cipher\n",
    "## 4 points\n",
    "\n",
    "(str, str) -> str\n",
    "    \n",
    "This function encrypts a message using the Vigenere cipher method.\n",
    "\n",
    "The Vigenere cipher is an extension of the Caesar cipher method.\n",
    "Instead of using a uniform number, the Vigenere cipher uses a keyword to shift letters.\n",
    "\n",
    "Example:\n",
    "\n",
    "vigenere_encrypt('ABC', 'KEY') -> 'KFA'\n",
    "\n",
    "First, convert the message and the key to numbers.  \n",
    "'ABC' -> [0, 1, 2]  \n",
    "'KEY' -> [10, 4, 24]  \n",
    "Second, add the respective numbers to each other.  \n",
    "[0, 1, 2] + [10, 4, 24] = [10, 5, 26]  \n",
    "Third, correct the numbers that do not fall within 0-25 by subtracting 26 until they fall within 0-25.  \n",
    "[10, 5, 26] -> [10, 5, 0]  \n",
    "Fourth, convert the numbers back to letters.  \n",
    "[10, 5, 0] -> 'KFA'  \n",
    "\n",
    "For your convenience:\n",
    "1. You are highly encouraged to use your Caesar cipher function from Item 2 in this item.\n",
    "2. You may assume that the key is the same length as the message.\n",
    "\n",
    "Bonus points:\n",
    "1. +2 (with a perfect base function) (all or nothing) if you adjust for the case that the key is \n",
    "  shorter than the message. (e.g. \"MEAMORE\", \"UEDA\" -> \"MEAMORE\", \"UEDAUED\")"
   ]
  },
  {
   "cell_type": "code",
   "execution_count": 22,
   "metadata": {},
   "outputs": [
    {
     "name": "stdout",
     "output_type": "stream",
     "text": [
      "GIDMIVH\n"
     ]
    }
   ],
   "source": [
    "#Problem 3\n",
    "def adjusted_vigenere_cipher(message,keyword):\n",
    "    message = list(message)        #convert given strings into lists\n",
    "    keyword = list(keyword)\n",
    "    \n",
    "    orig = []                      #used later to calculate\n",
    "    key = []\n",
    "    summedList = []\n",
    "    \n",
    "    answer = \"\"                    #string that is to be returned... aka. the \"answer\"\n",
    "    \n",
    "\n",
    "    if len(message)>len(keyword):                           #checks if keyword is shorter than message, if it is:\n",
    "                                                            #need the letters to repeat until len(keyword)>len(message)\n",
    "        multiplier = (len(message) // len(keyword)) + 1     #so we can just multiply the keyword by the multiplier\n",
    "        keyword = keyword*multiplier                        #in hindsight, ceiling function could have worked too\n",
    "\n",
    "        while len(keyword) != len(message):                 #makes the keyword equal to the message in length\n",
    "            keyword.pop()                                   #by removing the rightmost letters from the keyword\n",
    "    \n",
    "    for letter in message:                  #iterates through each letter of the message and keyword\n",
    "        orig.append(ord(letter)-65)         #and gets their ascii number - 65 (so A = 0, B = 1, C = 2, ... until Z = 25)\n",
    "    for letter in keyword:\n",
    "        key.append(ord(letter)-65)\n",
    "\n",
    "    for index in range(0,len(orig)):                        #will iterate through using the index\n",
    "        summedList.append(orig[index]+key[index])           #gets the sum of the values into one list (summedList)\n",
    "\n",
    "    #for each number in the summedList, that will be the \"shift\" in the caesar cipher\n",
    "    #note, that even though we set the caesar shift parameter before to be only between 0-25\n",
    "    #mathematically speaking, since we fixed the starting point below with \"A\" (which is 0), we can go until shift = 51          \n",
    "        #ie. \"A\" shifted 26 is still \"A\"; \"A\" shifted 51 is \"Z\" which is a letter\n",
    "    #since we're only accepting letters for this problem, max shift attainable is 50 (Z and Z)\n",
    "    #which means our code should still work.. :) \n",
    "    \n",
    "    for element in summedList:\n",
    "        a = caesar_cipher(\"A\",element)      #assigns the vignere-shifted letter to a variable \n",
    "        answer += a                         #and adds that variable to the \"answer\" string\n",
    "    return answer\n",
    "\n",
    "print(adjusted_vigenere_cipher(\"MEAMORE\",\"UEDA\"))"
   ]
  },
  {
   "cell_type": "markdown",
   "metadata": {},
   "source": [
    "# 4\n",
    "# Contact Tracing\n",
    "## 7 points\n",
    "\n",
    "This function simulates tracing an infected person and marking people they come into contact with.  \n",
    "\n",
    "### Rules of the Game\n",
    "1. The simulation starts with a single infected person (infected_person).  \n",
    "2. The people in this game \"move\". These movements are represented by strings.\n",
    "3. Each person that an infected person comes into contact with will become infected in the next round.\n",
    "\n",
    "\n",
    "### Conceptual demonstration\n",
    "Initial infected = C  \n",
    "\n",
    "Movements:  \n",
    "'JFHGIABECD'  \n",
    "'GAFJBCDIHE'  \n",
    "'FCGAEBIJDH'  \n",
    "\n",
    "\n",
    "1. In the first round, C is next to E and D. E and D will thus be infected next round.\n",
    "2. In the second round:  \n",
    "    The list of infected: CDE   \n",
    "    C is adjacent to B and D  \n",
    "    D is adjacent to C and I  \n",
    "    E is adjacent to H  \n",
    "    B, I, and H will thus be new infected next round.\n",
    "3. In the third round:  \n",
    "    The list of infected: CDEBIH  \n",
    "    C is adjacent to F and G  \n",
    "    D is adjacent to J and H  \n",
    "    E is adjacent to A and B  \n",
    "    B is adjacent to E and I  \n",
    "    I is adjacent to B and J  \n",
    "    H is adjacent to D  \n",
    "    F, G, J, and A will thus be new infected next round, but there is no next round, so the list of infected for the next round will count as our \"final\" list of infected.\n",
    "4. The final list of infected: CDEBIHFGJA. This is basically every single element. Note that in Python, the final list of infected will look like this:  \n",
    "['C', 'D', 'E', 'B', 'I', 'H', 'F', 'G', 'J', 'A']\n",
    "    \n",
    "### Required\n",
    "Write a function that takes an initial infected person as its first parameter and a list of movements as its second parameter. The function should **return** the final list of infected.  \n",
    "\n",
    "Please note the following:\n",
    "1. Your solution must work for an arbitrary number of movements of an arbitrary number of elements. This means that your code must still work if we change the initial infected person or the movement list.\n",
    "2. There will be no duplicate elements.\n",
    "3. There will only ever be one initial infected person.\n",
    "4. Please **comment** your code. It will help us understand your logic, and it will help you get partial points on this item.\n"
   ]
  },
  {
   "cell_type": "code",
   "execution_count": 31,
   "metadata": {
    "scrolled": true
   },
   "outputs": [
    {
     "name": "stdout",
     "output_type": "stream",
     "text": [
      "['C', 'n', 'a', 'D', 'd', 'j', 'q', 'T', 'K', 'e', 'p', 'u', 'w', 'z', 'R', 'I', 'f', 'W', 'c', 'V', 'Z', 'Y', 'S']\n"
     ]
    }
   ],
   "source": [
    "#Problem 4\n",
    "\n",
    "def tracer(initial, movement_list):\n",
    "    infected_list = [initial]            #list containing the first infected; infected_list is the \"total\"\n",
    "    current_infected_list = [initial]    #current_infected_list will be the infected list for that certain \"move\"\n",
    "\n",
    "    for possible_moves in movement_list:     #for loop iterates through all possible moves\n",
    "        \n",
    "        for letter in possible_moves:        #for loop iterates through all letters in each possible move\n",
    "            \n",
    "            if letter in current_infected_list: #checks if the current letter in the loop is in the infected list\n",
    "\n",
    "                if possible_moves.index(letter) == 0:\n",
    "                    if possible_moves[possible_moves.index(letter)+1] not in current_infected_list:\n",
    "                        infected_list.append(possible_moves[possible_moves.index(letter)+1])\n",
    "                        #block above checks if the infected is on the leftmost edge of the possible move\n",
    "                        #if the person on the right is not infected, add that person to the infected list\n",
    "                \n",
    "                elif possible_moves.index(letter) == (len(possible_moves)-1):\n",
    "                    if possible_moves[possible_moves.index(letter)-1] not in current_infected_list:\n",
    "                        infected_list.append(possible_moves[possible_moves.index(letter)-1])  \n",
    "                        #block above checks if the infected is on the rightmost edge of the possible move\n",
    "                        #if the person on the left is not infected, add that person to the infected list\n",
    "                \n",
    "                \n",
    "                else:        #means infected is located in the middle\n",
    "                    \n",
    "                    #if the person on the left is not infected, add that person to the infected list\n",
    "                    if possible_moves[possible_moves.index(letter)-1] not in current_infected_list:\n",
    "                        infected_list.append(possible_moves[possible_moves.index(letter)-1])\n",
    "\n",
    "                    #if the person on the right is not infected, add that person to the infected list\n",
    "                    if possible_moves[possible_moves.index(letter)+1] not in current_infected_list:\n",
    "                        infected_list.append(possible_moves[possible_moves.index(letter)+1])\n",
    "\n",
    "\n",
    "        for element in infected_list:                  #update \"current_infected_list\" for that round\n",
    "            if element not in current_infected_list:\n",
    "                current_infected_list.append(element)\n",
    "\n",
    "    return(current_infected_list)\n",
    "\n",
    "print(tracer(\"C\",['LMcSEDJfZAqbWRUgYeurIdtzKoihOxBmkQjFlpvNwXyPnCasGHVT',\n",
    "'ihpSPvorENDadfcyjnqlmgHWxTCKGIUkeOZzMJXYsuAwVbLRQBFt',\n",
    "'qepTuMENGwDztARCImQhiJXfnWbcaVvyrLsZjdYKSFBHPoxglOkU']))"
   ]
  }
 ],
 "metadata": {
  "kernelspec": {
   "display_name": "Python 3",
   "language": "python",
   "name": "python3"
  },
  "language_info": {
   "codemirror_mode": {
    "name": "ipython",
    "version": 3
   },
   "file_extension": ".py",
   "mimetype": "text/x-python",
   "name": "python",
   "nbconvert_exporter": "python",
   "pygments_lexer": "ipython3",
   "version": "3.7.4"
  }
 },
 "nbformat": 4,
 "nbformat_minor": 4
}
