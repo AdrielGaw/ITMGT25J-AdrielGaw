{
 "cells": [
  {
   "cell_type": "markdown",
   "metadata": {},
   "source": [
    "Student ID: 192204 <br>\n",
    "Surname: GAW <br>\n",
    "Year and Course: 2 BS ME <br>"
   ]
  },
  {
   "cell_type": "code",
   "execution_count": 22,
   "metadata": {},
   "outputs": [
    {
     "name": "stdout",
     "output_type": "stream",
     "text": [
      "Enter the amount in US Dollars:  1\n",
      "1.0 US dollar(s) = 50.0 Philippine Pesos\n"
     ]
    }
   ],
   "source": [
    "#Problem 1\n",
    "#code assumes that we can get a decimal amount;\n",
    "#convert \"float\" to \"int\" if we're only expecting integers :)\n",
    "def dollars_to_pesos(dollar):\n",
    "    return dollar*50\n",
    "\n",
    "dollar = float(input(\"Enter the amount in US Dollars:  \"))\n",
    "\n",
    "print(dollar,\"US dollar(s) =\", dollars_to_pesos(dollar),\"Philippine Pesos\")"
   ]
  },
  {
   "cell_type": "code",
   "execution_count": 23,
   "metadata": {},
   "outputs": [
    {
     "name": "stdout",
     "output_type": "stream",
     "text": [
      "Enter your first positive integer: 55\n",
      "Enter your second positive integer: 3\n",
      "58\n",
      "52\n",
      "165\n",
      "18\n",
      "1\n"
     ]
    }
   ],
   "source": [
    "# Problem 2\n",
    "#We can't necessarily ensure that we're only getting positive integers, unless we put a while-loop to prevent it..?\n",
    "#written prompts just to make it clear that we're inputting... personal preference din xD\n",
    "a = int(input(\"Enter your first positive integer: \"))\n",
    "b = int(input(\"Enter your second positive integer: \"))\n",
    "\n",
    "print(a+b)\n",
    "print(a-b)\n",
    "print(a*b)\n",
    "print(a//b)\n",
    "print(a%b)\n",
    "\n",
    "#can also be under one whole print function w/ \"sep\": \n",
    "#print(a+b,a-b,a*b,a//b,a%b,sep=\"\\n\")"
   ]
  },
  {
   "cell_type": "code",
   "execution_count": 24,
   "metadata": {},
   "outputs": [
    {
     "name": "stdout",
     "output_type": "stream",
     "text": [
      "Enter kg: 70\n",
      "Enter cm: 170\n",
      "BMI: 24.221453287197235\n"
     ]
    }
   ],
   "source": [
    "#Problem 3\n",
    "#again, we should only assume positive numbers, but for error checking, need while loop again...?\n",
    "def compute_bmi(kg,m):\n",
    "    return kg/(convert_cm_to_m(m)**2)\n",
    "\n",
    "def convert_cm_to_m(cm):\n",
    "    return cm/100\n",
    "\n",
    "\n",
    "kg = float(input(\"Enter kg: \"))\n",
    "m = float(input(\"Enter cm: \"))\n",
    "\n",
    "print(\"BMI:\",compute_bmi(kg,m))"
   ]
  },
  {
   "cell_type": "code",
   "execution_count": null,
   "metadata": {},
   "outputs": [],
   "source": []
  }
 ],
 "metadata": {
  "kernelspec": {
   "display_name": "Python 3",
   "language": "python",
   "name": "python3"
  },
  "language_info": {
   "codemirror_mode": {
    "name": "ipython",
    "version": 3
   },
   "file_extension": ".py",
   "mimetype": "text/x-python",
   "name": "python",
   "nbconvert_exporter": "python",
   "pygments_lexer": "ipython3",
   "version": "3.7.4"
  }
 },
 "nbformat": 4,
 "nbformat_minor": 2
}
