{
 "cells": [
  {
   "cell_type": "markdown",
   "metadata": {},
   "source": [
    "Create a program that reads a month and a day from the user. The user will enter the full name of the month followed by the day. Then your program should display the season associated with the date that was entered.\n",
    "\n",
    "The program accepts a string month, and an integer day, which represents the month name and the corresponding day.\n",
    "\n",
    "Spring = March 20 <br>\n",
    "Summer = June 21 <br>\n",
    "Fall = September 22 <br>\n",
    "Winter = December 21 <br>"
   ]
  },
  {
   "cell_type": "code",
   "execution_count": 13,
   "metadata": {},
   "outputs": [
    {
     "name": "stdout",
     "output_type": "stream",
     "text": [
      "Enter what month it is: March\n",
      "Enter what day (number) it is: 20\n",
      "Spring\n"
     ]
    }
   ],
   "source": [
    "month = input(\"Enter what month it is: \")\n",
    "month = month.title()\n",
    "day = int(input(\"Enter what day (number) it is: \"))\n",
    "\n",
    "if month == \"January\" or month == \"February\":\n",
    "    print(\"Winter\")\n",
    "elif month == \"March\":\n",
    "    if day < 20:\n",
    "        print(\"Winter\")\n",
    "    elif day >= 20:\n",
    "        print(\"Spring\")\n",
    "        \n",
    "elif month == \"April\" or month == \"May\":\n",
    "    print(\"Spring\")\n",
    "elif month == \"June\":\n",
    "    if day < 21:\n",
    "        print(\"Spring\")\n",
    "    elif day >= 21:\n",
    "        print(\"Summer\")\n",
    "\n",
    "elif month == \"July\" or month == \"August\":\n",
    "    print(\"Summer\")\n",
    "elif month == \"September\":\n",
    "    if day < 22:\n",
    "        print(\"Summer\")\n",
    "    elif day >= 22:\n",
    "        print(\"Fall\")\n",
    "\n",
    "elif month == \"October\" or month == \"November\":\n",
    "    print(\"Fall\")\n",
    "elif month == \"December\":\n",
    "    if day < 21:\n",
    "        print(\"Fall\")\n",
    "    elif day >= 21:\n",
    "        print(\"Winter\")"
   ]
  }
 ],
 "metadata": {
  "kernelspec": {
   "display_name": "Python 3",
   "language": "python",
   "name": "python3"
  },
  "language_info": {
   "codemirror_mode": {
    "name": "ipython",
    "version": 3
   },
   "file_extension": ".py",
   "mimetype": "text/x-python",
   "name": "python",
   "nbconvert_exporter": "python",
   "pygments_lexer": "ipython3",
   "version": "3.7.4"
  }
 },
 "nbformat": 4,
 "nbformat_minor": 2
}
